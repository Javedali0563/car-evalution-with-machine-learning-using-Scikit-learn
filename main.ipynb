{
 "cells": [
  {
   "cell_type": "code",
   "execution_count": 21,
   "metadata": {},
   "outputs": [],
   "source": [
    "import sklearn\n",
    "from sklearn.utils import shuffle\n",
    "from sklearn.neighbors import KNeighborsClassifier\n",
    "import pandas as pd\n",
    "import numpy as np\n",
    "from sklearn import linear_model, preprocessing\n",
    "from IPython.display import display,HTML"
   ]
  },
  {
   "cell_type": "code",
   "execution_count": 2,
   "metadata": {},
   "outputs": [
    {
     "data": {
      "text/html": [
       "<div>\n",
       "<style scoped>\n",
       "    .dataframe tbody tr th:only-of-type {\n",
       "        vertical-align: middle;\n",
       "    }\n",
       "\n",
       "    .dataframe tbody tr th {\n",
       "        vertical-align: top;\n",
       "    }\n",
       "\n",
       "    .dataframe thead th {\n",
       "        text-align: right;\n",
       "    }\n",
       "</style>\n",
       "<table border=\"1\" class=\"dataframe\">\n",
       "  <thead>\n",
       "    <tr style=\"text-align: right;\">\n",
       "      <th></th>\n",
       "      <th>buying</th>\n",
       "      <th>maint</th>\n",
       "      <th>doors</th>\n",
       "      <th>persons</th>\n",
       "      <th>lug_boot</th>\n",
       "      <th>safety</th>\n",
       "      <th>class</th>\n",
       "    </tr>\n",
       "  </thead>\n",
       "  <tbody>\n",
       "    <tr>\n",
       "      <th>0</th>\n",
       "      <td>vhigh</td>\n",
       "      <td>vhigh</td>\n",
       "      <td>2</td>\n",
       "      <td>2</td>\n",
       "      <td>small</td>\n",
       "      <td>low</td>\n",
       "      <td>unacc</td>\n",
       "    </tr>\n",
       "    <tr>\n",
       "      <th>1</th>\n",
       "      <td>vhigh</td>\n",
       "      <td>vhigh</td>\n",
       "      <td>2</td>\n",
       "      <td>2</td>\n",
       "      <td>small</td>\n",
       "      <td>med</td>\n",
       "      <td>unacc</td>\n",
       "    </tr>\n",
       "    <tr>\n",
       "      <th>2</th>\n",
       "      <td>vhigh</td>\n",
       "      <td>vhigh</td>\n",
       "      <td>2</td>\n",
       "      <td>2</td>\n",
       "      <td>small</td>\n",
       "      <td>high</td>\n",
       "      <td>unacc</td>\n",
       "    </tr>\n",
       "    <tr>\n",
       "      <th>3</th>\n",
       "      <td>vhigh</td>\n",
       "      <td>vhigh</td>\n",
       "      <td>2</td>\n",
       "      <td>2</td>\n",
       "      <td>med</td>\n",
       "      <td>low</td>\n",
       "      <td>unacc</td>\n",
       "    </tr>\n",
       "    <tr>\n",
       "      <th>4</th>\n",
       "      <td>vhigh</td>\n",
       "      <td>vhigh</td>\n",
       "      <td>2</td>\n",
       "      <td>2</td>\n",
       "      <td>med</td>\n",
       "      <td>med</td>\n",
       "      <td>unacc</td>\n",
       "    </tr>\n",
       "  </tbody>\n",
       "</table>\n",
       "</div>"
      ],
      "text/plain": [
       "  buying  maint doors persons lug_boot safety  class\n",
       "0  vhigh  vhigh     2       2    small    low  unacc\n",
       "1  vhigh  vhigh     2       2    small    med  unacc\n",
       "2  vhigh  vhigh     2       2    small   high  unacc\n",
       "3  vhigh  vhigh     2       2      med    low  unacc\n",
       "4  vhigh  vhigh     2       2      med    med  unacc"
      ]
     },
     "execution_count": 2,
     "metadata": {},
     "output_type": "execute_result"
    }
   ],
   "source": [
    "data = pd.read_csv(\"data/car.data\")\n",
    "data.head()"
   ]
  },
  {
   "cell_type": "code",
   "execution_count": 3,
   "metadata": {},
   "outputs": [],
   "source": [
    "preprocess = preprocessing.LabelEncoder()\n",
    "buying  = preprocess.fit_transform(list(data[\"buying\"]))\n",
    "maint  = preprocess.fit_transform(list(data[\"maint\"]))\n",
    "doors  = preprocess.fit_transform(list(data[\"doors\"]))\n",
    "persons  = preprocess.fit_transform(list(data[\"persons\"]))\n",
    "lug_boot  = preprocess.fit_transform(list(data[\"lug_boot\"]))\n",
    "safety  = preprocess.fit_transform(list(data[\"safety\"]))\n",
    "cls  = preprocess.fit_transform(list(data[\"class\"]))"
   ]
  },
  {
   "cell_type": "markdown",
   "metadata": {},
   "source": [
    "### Prediction value"
   ]
  },
  {
   "cell_type": "code",
   "execution_count": 4,
   "metadata": {},
   "outputs": [],
   "source": [
    "predict = \"class\""
   ]
  },
  {
   "cell_type": "code",
   "execution_count": 5,
   "metadata": {},
   "outputs": [],
   "source": [
    "X = list(zip(buying,maint,doors,persons,lug_boot,safety))\n",
    "y = list(cls)"
   ]
  },
  {
   "cell_type": "code",
   "execution_count": 6,
   "metadata": {},
   "outputs": [],
   "source": [
    "x_train, x_test, y_train, y_test = sklearn.model_selection.train_test_split(X, y, test_size = 0.1)"
   ]
  },
  {
   "cell_type": "code",
   "execution_count": 16,
   "metadata": {},
   "outputs": [
    {
     "name": "stdout",
     "output_type": "stream",
     "text": [
      "ACCURACY: 0.9364161849710982\n"
     ]
    }
   ],
   "source": [
    "model = KNeighborsClassifier(n_neighbors=5)\n",
    "model.fit(x_train, y_train)\n",
    "acc = model.score(x_test, y_test)\n",
    "print(\"ACCURACY:\",acc)"
   ]
  },
  {
   "cell_type": "code",
   "execution_count": 17,
   "metadata": {},
   "outputs": [],
   "source": [
    "predicted  = model.predict(x_test)"
   ]
  },
  {
   "cell_type": "code",
   "execution_count": 18,
   "metadata": {},
   "outputs": [],
   "source": [
    "class_names =['unacc','acc', 'good','vgood']"
   ]
  },
  {
   "cell_type": "code",
   "execution_count": 25,
   "metadata": {},
   "outputs": [
    {
     "data": {
      "text/html": [
       "<table><tr><th><h3>Predicted Value<h3></th><th><h3>Actual Value<h3></th></tr><tr><td>good</td><td>good</td></tr><tr><td>good</td><td>good</td></tr><tr><td>unacc</td><td>acc</td></tr><tr><td>good</td><td>good</td></tr><tr><td>unacc</td><td>unacc</td></tr><tr><td>good</td><td>good</td></tr><tr><td>good</td><td>good</td></tr><tr><td>good</td><td>good</td></tr><tr><td>good</td><td>good</td></tr><tr><td>good</td><td>good</td></tr><tr><td>unacc</td><td>unacc</td></tr><tr><td>good</td><td>good</td></tr><tr><td>good</td><td>good</td></tr><tr><td>good</td><td>good</td></tr><tr><td>good</td><td>good</td></tr><tr><td>good</td><td>good</td></tr><tr><td>good</td><td>good</td></tr><tr><td>unacc</td><td>unacc</td></tr><tr><td>good</td><td>good</td></tr><tr><td>good</td><td>good</td></tr><tr><td>good</td><td>good</td></tr><tr><td>good</td><td>good</td></tr><tr><td>good</td><td>good</td></tr><tr><td>good</td><td>good</td></tr><tr><td>unacc</td><td>unacc</td></tr><tr><td>unacc</td><td>unacc</td></tr><tr><td>good</td><td>good</td></tr><tr><td>good</td><td>good</td></tr><tr><td>good</td><td>good</td></tr><tr><td>unacc</td><td>unacc</td></tr><tr><td>good</td><td>good</td></tr><tr><td>unacc</td><td>unacc</td></tr><tr><td>good</td><td>good</td></tr><tr><td>good</td><td>good</td></tr><tr><td>good</td><td>good</td></tr><tr><td>unacc</td><td>unacc</td></tr><tr><td>good</td><td>good</td></tr><tr><td>good</td><td>good</td></tr><tr><td>acc</td><td>acc</td></tr><tr><td>good</td><td>good</td></tr><tr><td>unacc</td><td>unacc</td></tr><tr><td>good</td><td>good</td></tr><tr><td>unacc</td><td>unacc</td></tr><tr><td>good</td><td>good</td></tr><tr><td>good</td><td>good</td></tr><tr><td>good</td><td>good</td></tr><tr><td>good</td><td>vgood</td></tr><tr><td>good</td><td>good</td></tr><tr><td>good</td><td>good</td></tr><tr><td>good</td><td>good</td></tr><tr><td>good</td><td>good</td></tr><tr><td>good</td><td>good</td></tr><tr><td>vgood</td><td>vgood</td></tr><tr><td>good</td><td>good</td></tr><tr><td>good</td><td>good</td></tr><tr><td>good</td><td>good</td></tr><tr><td>acc</td><td>acc</td></tr><tr><td>good</td><td>good</td></tr><tr><td>good</td><td>unacc</td></tr><tr><td>good</td><td>good</td></tr><tr><td>unacc</td><td>unacc</td></tr><tr><td>unacc</td><td>unacc</td></tr><tr><td>good</td><td>good</td></tr><tr><td>good</td><td>good</td></tr><tr><td>good</td><td>good</td></tr><tr><td>good</td><td>good</td></tr><tr><td>good</td><td>good</td></tr><tr><td>good</td><td>good</td></tr><tr><td>good</td><td>good</td></tr><tr><td>good</td><td>good</td></tr><tr><td>good</td><td>good</td></tr><tr><td>good</td><td>good</td></tr><tr><td>good</td><td>good</td></tr><tr><td>unacc</td><td>unacc</td></tr><tr><td>good</td><td>good</td></tr><tr><td>good</td><td>good</td></tr><tr><td>good</td><td>good</td></tr><tr><td>unacc</td><td>unacc</td></tr><tr><td>good</td><td>good</td></tr><tr><td>good</td><td>good</td></tr><tr><td>unacc</td><td>unacc</td></tr><tr><td>unacc</td><td>unacc</td></tr><tr><td>good</td><td>good</td></tr><tr><td>good</td><td>good</td></tr><tr><td>good</td><td>good</td></tr><tr><td>good</td><td>good</td></tr><tr><td>unacc</td><td>good</td></tr><tr><td>unacc</td><td>unacc</td></tr><tr><td>good</td><td>good</td></tr><tr><td>unacc</td><td>unacc</td></tr><tr><td>good</td><td>good</td></tr><tr><td>good</td><td>good</td></tr><tr><td>good</td><td>good</td></tr><tr><td>good</td><td>good</td></tr><tr><td>good</td><td>good</td></tr><tr><td>unacc</td><td>unacc</td></tr><tr><td>good</td><td>unacc</td></tr><tr><td>good</td><td>good</td></tr><tr><td>good</td><td>good</td></tr><tr><td>good</td><td>good</td></tr><tr><td>good</td><td>good</td></tr><tr><td>unacc</td><td>unacc</td></tr><tr><td>good</td><td>good</td></tr><tr><td>good</td><td>good</td></tr><tr><td>good</td><td>good</td></tr><tr><td>good</td><td>good</td></tr><tr><td>good</td><td>good</td></tr><tr><td>acc</td><td>acc</td></tr><tr><td>good</td><td>unacc</td></tr><tr><td>good</td><td>good</td></tr><tr><td>good</td><td>good</td></tr><tr><td>good</td><td>unacc</td></tr><tr><td>good</td><td>good</td></tr><tr><td>good</td><td>good</td></tr><tr><td>vgood</td><td>vgood</td></tr><tr><td>good</td><td>good</td></tr><tr><td>good</td><td>good</td></tr><tr><td>good</td><td>good</td></tr><tr><td>good</td><td>good</td></tr><tr><td>good</td><td>good</td></tr><tr><td>unacc</td><td>unacc</td></tr><tr><td>good</td><td>good</td></tr><tr><td>good</td><td>good</td></tr><tr><td>unacc</td><td>unacc</td></tr><tr><td>good</td><td>good</td></tr><tr><td>unacc</td><td>unacc</td></tr><tr><td>good</td><td>good</td></tr><tr><td>good</td><td>good</td></tr><tr><td>good</td><td>good</td></tr><tr><td>good</td><td>good</td></tr><tr><td>unacc</td><td>acc</td></tr><tr><td>good</td><td>good</td></tr><tr><td>good</td><td>good</td></tr><tr><td>good</td><td>good</td></tr><tr><td>good</td><td>good</td></tr><tr><td>unacc</td><td>unacc</td></tr><tr><td>good</td><td>good</td></tr><tr><td>good</td><td>good</td></tr><tr><td>good</td><td>good</td></tr><tr><td>unacc</td><td>unacc</td></tr><tr><td>good</td><td>good</td></tr><tr><td>good</td><td>good</td></tr><tr><td>unacc</td><td>unacc</td></tr><tr><td>good</td><td>good</td></tr><tr><td>good</td><td>good</td></tr><tr><td>good</td><td>good</td></tr><tr><td>good</td><td>good</td></tr><tr><td>unacc</td><td>unacc</td></tr><tr><td>good</td><td>good</td></tr><tr><td>good</td><td>good</td></tr><tr><td>good</td><td>good</td></tr><tr><td>good</td><td>good</td></tr><tr><td>unacc</td><td>unacc</td></tr><tr><td>unacc</td><td>unacc</td></tr><tr><td>vgood</td><td>vgood</td></tr><tr><td>good</td><td>good</td></tr><tr><td>good</td><td>good</td></tr><tr><td>good</td><td>unacc</td></tr><tr><td>unacc</td><td>unacc</td></tr><tr><td>good</td><td>good</td></tr><tr><td>unacc</td><td>unacc</td></tr><tr><td>good</td><td>good</td></tr><tr><td>good</td><td>unacc</td></tr><tr><td>good</td><td>good</td></tr><tr><td>good</td><td>good</td></tr><tr><td>acc</td><td>vgood</td></tr><tr><td>unacc</td><td>unacc</td></tr><tr><td>good</td><td>good</td></tr><tr><td>good</td><td>good</td></tr><tr><td>good</td><td>good</td></tr><tr><td>good</td><td>good</td></tr><tr><td>good</td><td>good</td></tr><tr><td>good</td><td>good</td></tr></table>"
      ],
      "text/plain": [
       "<IPython.core.display.HTML object>"
      ]
     },
     "metadata": {},
     "output_type": "display_data"
    }
   ],
   "source": [
    "html = \"<table>\"\n",
    "html+=\"<tr>\"\n",
    "html+=\"<th><h3>Predicted Value<h3></th>\"\n",
    "html+=\"<th><h3>Actual Value<h3></th>\"\n",
    "html+=\"</tr>\"\n",
    "for x in range(len(predicted)):\n",
    "    html+=\"<tr>\"\n",
    "    html+=\"<td>%s</td>\"%(class_names[predicted[x]])\n",
    "    html+=\"<td>%s</td>\"%(class_names[y_test[x]])\n",
    "    html+=\"</tr>\"\n",
    "html+=\"</table>\"\n",
    "display(HTML(html))"
   ]
  },
  {
   "cell_type": "code",
   "execution_count": null,
   "metadata": {},
   "outputs": [],
   "source": []
  }
 ],
 "metadata": {
  "kernelspec": {
   "display_name": "Python 3",
   "language": "python",
   "name": "python3"
  },
  "language_info": {
   "codemirror_mode": {
    "name": "ipython",
    "version": 3
   },
   "file_extension": ".py",
   "mimetype": "text/x-python",
   "name": "python",
   "nbconvert_exporter": "python",
   "pygments_lexer": "ipython3",
   "version": "3.8.0"
  }
 },
 "nbformat": 4,
 "nbformat_minor": 4
}
